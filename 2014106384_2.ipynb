{
 "cells": [
  {
   "cell_type": "code",
   "execution_count": 1,
   "metadata": {},
   "outputs": [],
   "source": [
    "import io\n",
    "import sqlite3\n",
    "import pandas as pd\n",
    "\n",
    "import matplotlib as plt\n",
    "import csv"
   ]
  },
  {
   "cell_type": "code",
   "execution_count": 2,
   "metadata": {},
   "outputs": [
    {
     "data": {
      "text/plain": [
       "<sqlite3.Cursor at 0x7f4b3a214180>"
      ]
     },
     "execution_count": 2,
     "metadata": {},
     "output_type": "execute_result"
    }
   ],
   "source": [
    "csvfile = open('2014106384.csv', 'w')\n",
    "csvwriter = csv.writer(csvfile, delimiter='|',  quoting=csv.QUOTE_MINIMAL)\n",
    "\n",
    "conn = sqlite3.connect('tp1.db')\n",
    "cursor = conn.cursor()\n",
    "\n",
    "f = io.open('despesas_publicas_tp1.sql', 'r', encoding='ISO-8859-1')\n",
    "sql = f.read()\n",
    "cursor.executescript(sql)\n",
    "\n",
    "# Questões: 1 2   4 5   7 9"
   ]
  },
  {
   "cell_type": "markdown",
   "metadata": {},
   "source": [
    "#### 1. Liste todos os códigos e nomes de subfunções da função que possui o maior número de subfunções."
   ]
  },
  {
   "cell_type": "code",
   "execution_count": 3,
   "metadata": {
    "scrolled": false
   },
   "outputs": [
    {
     "name": "stdout",
     "output_type": "stream",
     "text": [
      "   COD_SUBFUNCAO               NOME_SUBFUNCAO\n",
      "0            125  Normatização e fiscalização\n",
      "1            126     Tecnologia da informação\n",
      "2            131           Comunicação social\n",
      "3            244      Assistência comunitária\n",
      "4            306       Alimentação e nutrição\n",
      "5            365            Educação infantil\n",
      "6            511      Saneamento básico rural\n"
     ]
    },
    {
     "data": {
      "text/plain": [
       "349"
      ]
     },
     "execution_count": 3,
     "metadata": {},
     "output_type": "execute_result"
    }
   ],
   "source": [
    "consulta_questao1 = \"SELECT A.COD_SUBFUNCAO, A.NOME_SUBFUNCAO FROM SUBFUNCAO AS A INNER JOIN (SELECT COD_SUBFUNCAO FROM DETALHAMENTO_FUNCAO WHERE COD_FUNCAO = (SELECT COD_FUNCAO FROM (SELECT COD_FUNCAO, MAX(Y.SUB) FROM ( SELECT COD_FUNCAO, COUNT(COD_SUBFUNCAO) as SUB FROM DETALHAMENTO_FUNCAO GROUP BY COD_FUNCAO ) Y ))) AS X ON A.COD_SUBFUNCAO = X.COD_SUBFUNCAO\"\n",
    "df = pd.read_sql_query(consulta_questao1, conn)\n",
    "print(df)\n",
    "csvwriter.writerow([1, df.shape[0], df.shape[1], consulta_questao1])"
   ]
  },
  {
   "cell_type": "markdown",
   "metadata": {},
   "source": [
    "#### 2. Liste o valor total de despesas públicas por função (nome) e subfunção(nome), apenas nos casos em que esse valor total excedeu 200 mil reais."
   ]
  },
  {
   "cell_type": "code",
   "execution_count": 4,
   "metadata": {},
   "outputs": [
    {
     "name": "stdout",
     "output_type": "stream",
     "text": [
      "          NOME_FUNCAO           NOME_SUBFUNCAO  VALOR_DESPESA\n",
      "0  Assistência social  Assistência comunitária      219668.07\n",
      "1            Educação          Educação básica      334126.70\n"
     ]
    },
    {
     "data": {
      "text/plain": [
       "415"
      ]
     },
     "execution_count": 4,
     "metadata": {},
     "output_type": "execute_result"
    }
   ],
   "source": [
    "consulta_questao2 = \"SELECT FUNC.NOME_FUNCAO, SUBFUNC.NOME_SUBFUNCAO, CODS.VALOR_DESPESA FROM FUNCAO AS FUNC, SUBFUNCAO AS SUBFUNC INNER JOIN (SELECT * FROM DETALHAMENTO_FUNCAO AS DETALHAMENTO INNER JOIN (SELECT * FROM DESPESA_PUBLICA WHERE VALOR_DESPESA > 200000) AS DESPESA ON DETALHAMENTO.COD_DETALHAMENTO = DESPESA.COD_DETALHAMENTO) AS CODS ON FUNC.COD_FUNCAO = CODS.COD_FUNCAO AND SUBFUNC.COD_SUBFUNCAO = CODS.COD_SUBFUNCAO\"\n",
    "df = pd.read_sql_query(consulta_questao2, conn)\n",
    "print(df)\n",
    "csvwriter.writerow([2, df.shape[0], df.shape[1], consulta_questao2])"
   ]
  },
  {
   "cell_type": "markdown",
   "metadata": {},
   "source": [
    "#### 4. Liste o mês e ano, modalidade, programa de governo e valor de todas as despesas do órgão Ministério da Fazenda no primeiro semestre de 2018."
   ]
  },
  {
   "cell_type": "code",
   "execution_count": 5,
   "metadata": {},
   "outputs": [
    {
     "name": "stdout",
     "output_type": "stream",
     "text": [
      "     MES_DESPESA  ANO_DESPESA       MODALIDADE_DESPESA  \\\n",
      "0              4         2018  Reserva de Contingência   \n",
      "1              1         2018  Reserva de Contingência   \n",
      "2              2         2018  Reserva de Contingência   \n",
      "3              3         2018  Reserva de Contingência   \n",
      "4              4         2018  Reserva de Contingência   \n",
      "5              5         2018  Reserva de Contingência   \n",
      "6              6         2018  Reserva de Contingência   \n",
      "7              4         2018  Reserva de Contingência   \n",
      "8              1         2018  Reserva de Contingência   \n",
      "9              2         2018  Reserva de Contingência   \n",
      "10             3         2018  Reserva de Contingência   \n",
      "11             4         2018  Reserva de Contingência   \n",
      "12             5         2018  Reserva de Contingência   \n",
      "13             6         2018  Reserva de Contingência   \n",
      "14             4         2018  Reserva de Contingência   \n",
      "15             1         2018  Reserva de Contingência   \n",
      "16             2         2018  Reserva de Contingência   \n",
      "17             3         2018  Reserva de Contingência   \n",
      "18             4         2018  Reserva de Contingência   \n",
      "19             5         2018  Reserva de Contingência   \n",
      "20             6         2018  Reserva de Contingência   \n",
      "21             4         2018  Reserva de Contingência   \n",
      "22             1         2018  Reserva de Contingência   \n",
      "23             2         2018  Reserva de Contingência   \n",
      "24             3         2018  Reserva de Contingência   \n",
      "25             4         2018  Reserva de Contingência   \n",
      "26             5         2018  Reserva de Contingência   \n",
      "27             6         2018  Reserva de Contingência   \n",
      "28             4         2018  Reserva de Contingência   \n",
      "29             1         2018  Reserva de Contingência   \n",
      "..           ...          ...                      ...   \n",
      "159            5         2018  Reserva de Contingência   \n",
      "160            6         2018  Reserva de Contingência   \n",
      "161            4         2018  Reserva de Contingência   \n",
      "162            1         2018  Reserva de Contingência   \n",
      "163            2         2018  Reserva de Contingência   \n",
      "164            3         2018  Reserva de Contingência   \n",
      "165            4         2018  Reserva de Contingência   \n",
      "166            5         2018  Reserva de Contingência   \n",
      "167            6         2018  Reserva de Contingência   \n",
      "168            4         2018  Reserva de Contingência   \n",
      "169            1         2018  Reserva de Contingência   \n",
      "170            2         2018  Reserva de Contingência   \n",
      "171            3         2018  Reserva de Contingência   \n",
      "172            4         2018  Reserva de Contingência   \n",
      "173            5         2018  Reserva de Contingência   \n",
      "174            6         2018  Reserva de Contingência   \n",
      "175            4         2018  Reserva de Contingência   \n",
      "176            1         2018  Reserva de Contingência   \n",
      "177            2         2018  Reserva de Contingência   \n",
      "178            3         2018  Reserva de Contingência   \n",
      "179            4         2018  Reserva de Contingência   \n",
      "180            5         2018  Reserva de Contingência   \n",
      "181            6         2018  Reserva de Contingência   \n",
      "182            4         2018  Reserva de Contingência   \n",
      "183            1         2018  Reserva de Contingência   \n",
      "184            2         2018  Reserva de Contingência   \n",
      "185            3         2018  Reserva de Contingência   \n",
      "186            4         2018  Reserva de Contingência   \n",
      "187            5         2018  Reserva de Contingência   \n",
      "188            6         2018  Reserva de Contingência   \n",
      "\n",
      "                                 NOME_PROGRAMA_GOVERNO  TOTAL_DESPESA  \n",
      "0                                     VIVER SEM LIMITE              0  \n",
      "1                                     VIVER SEM LIMITE              0  \n",
      "2                                     VIVER SEM LIMITE              0  \n",
      "3                                     VIVER SEM LIMITE              0  \n",
      "4                                     VIVER SEM LIMITE              0  \n",
      "5                                     VIVER SEM LIMITE              0  \n",
      "6                                     VIVER SEM LIMITE              0  \n",
      "7                                       SOS EMERGENCIA              0  \n",
      "8                                       SOS EMERGENCIA              0  \n",
      "9                                       SOS EMERGENCIA              0  \n",
      "10                                      SOS EMERGENCIA              0  \n",
      "11                                      SOS EMERGENCIA              0  \n",
      "12                                      SOS EMERGENCIA              0  \n",
      "13                                      SOS EMERGENCIA              0  \n",
      "14                                      MELHOR EM CASA              0  \n",
      "15                                      MELHOR EM CASA              0  \n",
      "16                                      MELHOR EM CASA              0  \n",
      "17                                      MELHOR EM CASA              0  \n",
      "18                                      MELHOR EM CASA              0  \n",
      "19                                      MELHOR EM CASA              0  \n",
      "20                                      MELHOR EM CASA              0  \n",
      "21                                                 UBS              0  \n",
      "22                                                 UBS              0  \n",
      "23                                                 UBS              0  \n",
      "24                                                 UBS              0  \n",
      "25                                                 UBS              0  \n",
      "26                                                 UBS              0  \n",
      "27                                                 UBS              0  \n",
      "28   UPA (INVESTIMENTO, CUSTEIO E COMPLEXO DE REGUL...              0  \n",
      "29   UPA (INVESTIMENTO, CUSTEIO E COMPLEXO DE REGUL...              0  \n",
      "..                                                 ...            ...  \n",
      "159                                            ENAFRON              0  \n",
      "160                                            ENAFRON              0  \n",
      "161                              VIOLENCIA NO TRANSITO              0  \n",
      "162                              VIOLENCIA NO TRANSITO              0  \n",
      "163                              VIOLENCIA NO TRANSITO              0  \n",
      "164                              VIOLENCIA NO TRANSITO              0  \n",
      "165                              VIOLENCIA NO TRANSITO              0  \n",
      "166                              VIOLENCIA NO TRANSITO              0  \n",
      "167                              VIOLENCIA NO TRANSITO              0  \n",
      "168                               SEGURO RURAL PRIVADO              0  \n",
      "169                               SEGURO RURAL PRIVADO              0  \n",
      "170                               SEGURO RURAL PRIVADO              0  \n",
      "171                               SEGURO RURAL PRIVADO              0  \n",
      "172                               SEGURO RURAL PRIVADO              0  \n",
      "173                               SEGURO RURAL PRIVADO              0  \n",
      "174                               SEGURO RURAL PRIVADO              0  \n",
      "175  PROGRAMA NACIONAL DE MELHORIA DE ACESSO E QUAL...              0  \n",
      "176  PROGRAMA NACIONAL DE MELHORIA DE ACESSO E QUAL...              0  \n",
      "177  PROGRAMA NACIONAL DE MELHORIA DE ACESSO E QUAL...              0  \n",
      "178  PROGRAMA NACIONAL DE MELHORIA DE ACESSO E QUAL...              0  \n",
      "179  PROGRAMA NACIONAL DE MELHORIA DE ACESSO E QUAL...              0  \n",
      "180  PROGRAMA NACIONAL DE MELHORIA DE ACESSO E QUAL...              0  \n",
      "181  PROGRAMA NACIONAL DE MELHORIA DE ACESSO E QUAL...              0  \n",
      "182                                       MAIS MEDICOS              0  \n",
      "183                                       MAIS MEDICOS              0  \n",
      "184                                       MAIS MEDICOS              0  \n",
      "185                                       MAIS MEDICOS              0  \n",
      "186                                       MAIS MEDICOS              0  \n",
      "187                                       MAIS MEDICOS              0  \n",
      "188                                       MAIS MEDICOS              0  \n",
      "\n",
      "[189 rows x 5 columns]\n"
     ]
    },
    {
     "data": {
      "text/plain": [
       "412"
      ]
     },
     "execution_count": 5,
     "metadata": {},
     "output_type": "execute_result"
    }
   ],
   "source": [
    "consulta_questao4 = 'SELECT DESPESA.MES_DESPESA, DESPESA.ANO_DESPESA, DESPESA.MODALIDADE_DESPESA, PROGRAMA.NOME_PROGRAMA_GOVERNO, DESPESA.VALOR_DESPESA TOTAL_DESPESA FROM PROGRAMA_GOVERNO AS PROGRAMA INNER JOIN (SELECT * FROM DESPESA_PUBLICA AS DESPESA INNER JOIN (SELECT * FROM ORGAO WHERE NOME_ORGAO = \"Ministério da Fazenda\" ) AS ORGAO ON DESPESA.COD_ORGAO = ORGAO.COD_ORGAO) AS DESPESA WHERE DESPESA.MES_DESPESA < 7'\n",
    "df = pd.read_sql_query(consulta_questao4, conn)\n",
    "print(df)\n",
    "csvwriter.writerow([4, df.shape[0], df.shape[1], consulta_questao4])"
   ]
  },
  {
   "cell_type": "markdown",
   "metadata": {},
   "source": [
    "#### 5. Liste o código e nome dos programas de governo que possuíram os 3 maiores valores de despesas totais na função de educação durante o ano de 2018."
   ]
  },
  {
   "cell_type": "code",
   "execution_count": 6,
   "metadata": {},
   "outputs": [
    {
     "name": "stdout",
     "output_type": "stream",
     "text": [
      "   COD_PROGRAMA_GOVERNO NOME_PROGRAMA_GOVERNO\n",
      "0                    11                  ENEM\n",
      "1                    14              PRONATEC\n",
      "2                    35          MAIS MEDICOS\n"
     ]
    },
    {
     "data": {
      "text/plain": [
       "536"
      ]
     },
     "execution_count": 6,
     "metadata": {},
     "output_type": "execute_result"
    }
   ],
   "source": [
    "consulta_questao5 = 'SELECT DESPESA.COD_PROGRAMA_GOVERNO, DESPESA.NOME_PROGRAMA_GOVERNO FROM  (SELECT * FROM PROGRAMA_GOVERNO AS PROGRAMA INNER JOIN (SELECT * FROM DESPESA_PUBLICA AS DESPESA INNER JOIN (SELECT * FROM DETALHAMENTO_FUNCAO WHERE COD_FUNCAO = (SELECT COD_FUNCAO FROM FUNCAO WHERE NOME_FUNCAO = \"Educação\" )) AS EDU ON DESPESA.COD_DETALHAMENTO = EDU.COD_DETALHAMENTO) AS DESPESA ON PROGRAMA.COD_PROGRAMA_GOVERNO = DESPESA.COD_PROGRAMA_GOVERNO) AS DESPESA GROUP BY DESPESA.COD_PROGRAMA_GOVERNO ORDER BY SUM(VALOR_DESPESA) DESC LIMIT 3'\n",
    "df = pd.read_sql_query(consulta_questao5, conn)\n",
    "print(df)\n",
    "csvwriter.writerow([5, df.shape[0], df.shape[1], consulta_questao5])"
   ]
  },
  {
   "cell_type": "markdown",
   "metadata": {},
   "source": [
    "#### 7. Liste os órgãos governamentais e a quantidade de programas de governo distintos envolvidos nas despesas públicas desses órgãos. Nesta consulta, desconsidere valores de despesa negativos ou iguais a zero no perı́odo."
   ]
  },
  {
   "cell_type": "code",
   "execution_count": 7,
   "metadata": {},
   "outputs": [
    {
     "name": "stdout",
     "output_type": "stream",
     "text": [
      "                                      NOME_ORGAO  NUM_PROGRAMAS\n",
      "0  Ministério da Agricultura, Pecuária e Abastec              4\n",
      "1                         Ministério da Educação             10\n",
      "2                            Ministério da Saúde              3\n",
      "3                           Ministério da Defesa              2\n",
      "4           Ministério do Desenvolvimento Social              2\n"
     ]
    },
    {
     "data": {
      "text/plain": [
       "250"
      ]
     },
     "execution_count": 7,
     "metadata": {},
     "output_type": "execute_result"
    }
   ],
   "source": [
    "consulta_questao7 = 'SELECT NOME_ORGAO, DESPESAS.NUM_PROGRAMAS FROM ORGAO INNER JOIN (SELECT DISTINCT COUNT(COD_PROGRAMA_GOVERNO) NUM_PROGRAMAS, * FROM DESPESA_PUBLICA WHERE VALOR_DESPESA > 0 GROUP BY COD_ORGAO) AS DESPESAS ON ORGAO.COD_ORGAO = DESPESAS.COD_ORGAO'\n",
    "df = pd.read_sql_query(consulta_questao7, conn)\n",
    "print(df)\n",
    "csvwriter.writerow([7, df.shape[0], df.shape[1], consulta_questao7])"
   ]
  },
  {
   "cell_type": "markdown",
   "metadata": {},
   "source": [
    "#### 9. Liste todas as despesas públicas (código da despesa, mês e ano da despesa, modalidade, valor) em que o órgão responsável é aquele que possui o maior número de órgãos subordinados."
   ]
  },
  {
   "cell_type": "code",
   "execution_count": 8,
   "metadata": {},
   "outputs": [
    {
     "name": "stdout",
     "output_type": "stream",
     "text": [
      "     COD_DESPESA  MES_DESPESA  ANO_DESPESA  \\\n",
      "0            196           10         2018   \n",
      "1            197            1         2018   \n",
      "2            198            2         2018   \n",
      "3            199            3         2018   \n",
      "4            200            4         2018   \n",
      "5            201            5         2018   \n",
      "6            202            6         2018   \n",
      "7            203            7         2018   \n",
      "8            204            9         2018   \n",
      "9            205           10         2018   \n",
      "10           206           11         2018   \n",
      "11           207           12         2018   \n",
      "12           208            1         2018   \n",
      "13           209            6         2018   \n",
      "14           210            7         2018   \n",
      "15           211            8         2018   \n",
      "16           212            9         2018   \n",
      "17           213           11         2018   \n",
      "18           214           12         2018   \n",
      "19           215            1         2018   \n",
      "20           216            2         2018   \n",
      "21           217            3         2018   \n",
      "22           218            4         2018   \n",
      "23           219            5         2018   \n",
      "24           220            6         2018   \n",
      "25           221            7         2018   \n",
      "26           222            8         2018   \n",
      "27           223            9         2018   \n",
      "28           224           10         2018   \n",
      "29           225           11         2018   \n",
      "..           ...          ...          ...   \n",
      "264          460            3         2018   \n",
      "265          461            4         2018   \n",
      "266          462            5         2018   \n",
      "267          463            6         2018   \n",
      "268          464            7         2018   \n",
      "269          465            8         2018   \n",
      "270          466            9         2018   \n",
      "271          467           10         2018   \n",
      "272          468           11         2018   \n",
      "273          469           12         2018   \n",
      "274          470            1         2018   \n",
      "275          471            2         2018   \n",
      "276          472            3         2018   \n",
      "277          473            4         2018   \n",
      "278          474            5         2018   \n",
      "279          475            6         2018   \n",
      "280          476            8         2018   \n",
      "281          477           12         2018   \n",
      "282          478            1         2018   \n",
      "283          479            2         2018   \n",
      "284          480            3         2018   \n",
      "285          481            4         2018   \n",
      "286          482            5         2018   \n",
      "287          483            6         2018   \n",
      "288          484            7         2018   \n",
      "289          485            8         2018   \n",
      "290          486            9         2018   \n",
      "291          487           10         2018   \n",
      "292          488           11         2018   \n",
      "293          489           12         2018   \n",
      "\n",
      "                                MODALIDADE_DESPESA  VALOR_DESPESA  \n",
      "0                          Reserva de Contingência            0.0  \n",
      "1                          Reserva de Contingência            0.0  \n",
      "2                          Reserva de Contingência            0.0  \n",
      "3                          Reserva de Contingência            0.0  \n",
      "4                          Reserva de Contingência            0.0  \n",
      "5                          Reserva de Contingência            0.0  \n",
      "6                          Reserva de Contingência            0.0  \n",
      "7                          Reserva de Contingência            0.0  \n",
      "8                          Reserva de Contingência            0.0  \n",
      "9                          Reserva de Contingência            0.0  \n",
      "10                         Reserva de Contingência            0.0  \n",
      "11                         Reserva de Contingência            0.0  \n",
      "12   APLICACOES DIRETAS - OPER.INTRA-ORCAMENTARIAS            0.0  \n",
      "13   APLICACOES DIRETAS - OPER.INTRA-ORCAMENTARIAS            0.0  \n",
      "14   APLICACOES DIRETAS - OPER.INTRA-ORCAMENTARIAS            0.0  \n",
      "15   APLICACOES DIRETAS - OPER.INTRA-ORCAMENTARIAS            0.0  \n",
      "16   APLICACOES DIRETAS - OPER.INTRA-ORCAMENTARIAS            0.0  \n",
      "17   APLICACOES DIRETAS - OPER.INTRA-ORCAMENTARIAS            0.0  \n",
      "18   APLICACOES DIRETAS - OPER.INTRA-ORCAMENTARIAS            0.0  \n",
      "19                         Reserva de Contingência            0.0  \n",
      "20                         Reserva de Contingência            0.0  \n",
      "21                         Reserva de Contingência            0.0  \n",
      "22                         Reserva de Contingência            0.0  \n",
      "23                         Reserva de Contingência            0.0  \n",
      "24                         Reserva de Contingência            0.0  \n",
      "25                         Reserva de Contingência            0.0  \n",
      "26                         Reserva de Contingência            0.0  \n",
      "27                         Reserva de Contingência            0.0  \n",
      "28                         Reserva de Contingência            0.0  \n",
      "29                         Reserva de Contingência            0.0  \n",
      "..                                             ...            ...  \n",
      "264                        Reserva de Contingência            0.0  \n",
      "265                        Reserva de Contingência            0.0  \n",
      "266                        Reserva de Contingência            0.0  \n",
      "267                        Reserva de Contingência            0.0  \n",
      "268                        Reserva de Contingência            0.0  \n",
      "269                        Reserva de Contingência            0.0  \n",
      "270                        Reserva de Contingência            0.0  \n",
      "271                        Reserva de Contingência            0.0  \n",
      "272                        Reserva de Contingência            0.0  \n",
      "273                        Reserva de Contingência            0.0  \n",
      "274                        Reserva de Contingência            0.0  \n",
      "275                        Reserva de Contingência            0.0  \n",
      "276                        Reserva de Contingência            0.0  \n",
      "277                        Reserva de Contingência            0.0  \n",
      "278                        Reserva de Contingência            0.0  \n",
      "279                        Reserva de Contingência            0.0  \n",
      "280                        Reserva de Contingência            0.0  \n",
      "281                        Reserva de Contingência            0.0  \n",
      "282                        Reserva de Contingência            0.0  \n",
      "283                        Reserva de Contingência            0.0  \n",
      "284                        Reserva de Contingência            0.0  \n",
      "285                        Reserva de Contingência            0.0  \n",
      "286                        Reserva de Contingência            0.0  \n",
      "287                        Reserva de Contingência            0.0  \n",
      "288                        Reserva de Contingência            0.0  \n",
      "289                        Reserva de Contingência         2400.0  \n",
      "290                        Reserva de Contingência            0.0  \n",
      "291                        Reserva de Contingência            0.0  \n",
      "292                        Reserva de Contingência            0.0  \n",
      "293                        Reserva de Contingência            0.0  \n",
      "\n",
      "[294 rows x 5 columns]\n"
     ]
    },
    {
     "data": {
      "text/plain": [
       "245"
      ]
     },
     "execution_count": 8,
     "metadata": {},
     "output_type": "execute_result"
    }
   ],
   "source": [
    "consulta_questao9 = 'SELECT COD_DESPESA, MES_DESPESA, ANO_DESPESA, MODALIDADE_DESPESA, VALOR_DESPESA FROM DESPESA_PUBLICA INNER JOIN (SELECT MAX(QTD_ORGAOS_SUBORDINADOS) QTD, * FROM ORGAO) AS MAIOR_ORGAO ON DESPESA_PUBLICA.COD_ORGAO = MAIOR_ORGAO.COD_ORGAO'\n",
    "df = pd.read_sql_query(consulta_questao9, conn)\n",
    "print(df)\n",
    "csvwriter.writerow([9, df.shape[0], df.shape[1], consulta_questao9])"
   ]
  },
  {
   "cell_type": "markdown",
   "metadata": {},
   "source": [
    "#### 12. π NOME_FUNCAO, NOME_SUBFUNCAO(FUNCAO ⋈ DETALHAMENTO_FUNCAO ⋈ SUBFUNCAO)"
   ]
  },
  {
   "cell_type": "code",
   "execution_count": 9,
   "metadata": {},
   "outputs": [
    {
     "name": "stdout",
     "output_type": "stream",
     "text": [
      "              NOME_FUNCAO                                    NOME_SUBFUNCAO\n",
      "0     Essencial à justiça                                Comunicação social\n",
      "1         Defesa nacional                               Administração geral\n",
      "2         Defesa nacional                                  Defesa terrestre\n",
      "3       Segurança pública                               Administração geral\n",
      "4       Segurança pública                                      Policiamento\n",
      "5       Segurança pública                                      Defesa civil\n",
      "6       Segurança pública                         Informação e inteligência\n",
      "7      Assistência social                       Normatização e fiscalização\n",
      "8      Assistência social                          Tecnologia da informação\n",
      "9      Assistência social                                Comunicação social\n",
      "10     Assistência social                           Assistência comunitária\n",
      "11     Assistência social                            Alimentação e nutrição\n",
      "12     Assistência social                                 Educação infantil\n",
      "13     Assistência social                           Saneamento básico rural\n",
      "14                  Saúde                      Formação de recursos humanos\n",
      "15                  Saúde                                    Atenção básica\n",
      "16                  Saúde             Assistência hospitalar e ambulatorial\n",
      "17               Trabalho                               Fomento ao trabalho\n",
      "18               Educação             Assistência hospitalar e ambulatorial\n",
      "19               Educação                               Ensino profissional\n",
      "20               Educação                                   Ensino superior\n",
      "21               Educação                                   Educação básica\n",
      "22               Educação             Transferências para a educação básica\n",
      "23  Direitos da cidadania            Assistência ao portador de deficiência\n",
      "24  Direitos da cidadania                    Custódia e reintegração social\n",
      "25  Direitos da cidadania         Direitos individuais, coletivos e difusos\n",
      "26              Urbanismo                           Assistência comunitária\n",
      "27       Gestão ambiental               Preservação e conservação ambiental\n",
      "28       Gestão ambiental                                 Recursos hídricos\n",
      "29   Ciência e Tecnologia                        Desenvolvimento científico\n",
      "30   Ciência e Tecnologia          Desenvolvimento tecnológico e engenharia\n",
      "31            Agricultura  Difusão do conhecimento científico e tecnológico\n",
      "32            Agricultura                 Promoção da produção agropecuária\n",
      "33    Organização agrária                       Normatização e fiscalização\n",
      "34    Organização agrária                           Ordenamento territorial\n",
      "35    Organização agrária                                    Extensão rural\n",
      "36    Organização agrária                                   Reforma agrária\n",
      "37              Indústria                                Promoção comercial\n",
      "38             Transporte                               Administração geral\n",
      "39     Encargos especiais                         Outros encargos especiais\n"
     ]
    },
    {
     "data": {
      "text/plain": [
       "264"
      ]
     },
     "execution_count": 9,
     "metadata": {},
     "output_type": "execute_result"
    }
   ],
   "source": [
    "consulta_questao12 = 'SELECT DISTINCT NOME_FUNCAO, NOME_SUBFUNCAO FROM (SELECT * FROM SUBFUNCAO INNER JOIN (SELECT * FROM DETALHAMENTO_FUNCAO INNER JOIN FUNCAO ON DETALHAMENTO_FUNCAO.COD_FUNCAO = FUNCAO.COD_FUNCAO) AS DET ON DET.COD_SUBFUNCAO = SUBFUNCAO.COD_SUBFUNCAO) AS SUB'\n",
    "df = pd.read_sql_query(consulta_questao12, conn)\n",
    "print(df)\n",
    "csvwriter.writerow([12, df.shape[0], df.shape[1], consulta_questao12])"
   ]
  },
  {
   "cell_type": "markdown",
   "metadata": {},
   "source": [
    "#### 13. π MODALIDADE_DESPESA, VALOR_DESPESA, NOME_PROGRAMA_GOVERNO(PROGRAMA_GOVERNO ⋈ σ MODALIDADE_DESPESA='Reserva de Contingência'(DESPESA_PUBLICA))"
   ]
  },
  {
   "cell_type": "code",
   "execution_count": 10,
   "metadata": {},
   "outputs": [
    {
     "name": "stdout",
     "output_type": "stream",
     "text": [
      "         MODALIDADE_DESPESA  VALOR_DESPESA  \\\n",
      "0   Reserva de Contingência           0.00   \n",
      "1   Reserva de Contingência           0.00   \n",
      "2   Reserva de Contingência           0.00   \n",
      "3   Reserva de Contingência        8215.70   \n",
      "4   Reserva de Contingência           3.42   \n",
      "5   Reserva de Contingência       81120.13   \n",
      "6   Reserva de Contingência           0.00   \n",
      "7   Reserva de Contingência        1497.26   \n",
      "8   Reserva de Contingência           0.00   \n",
      "9   Reserva de Contingência           0.00   \n",
      "10  Reserva de Contingência           0.00   \n",
      "11  Reserva de Contingência           0.00   \n",
      "12  Reserva de Contingência           0.00   \n",
      "13  Reserva de Contingência           0.00   \n",
      "14  Reserva de Contingência           0.00   \n",
      "15  Reserva de Contingência        1210.00   \n",
      "16  Reserva de Contingência           0.00   \n",
      "17  Reserva de Contingência           0.00   \n",
      "18  Reserva de Contingência           0.00   \n",
      "19  Reserva de Contingência         135.36   \n",
      "20  Reserva de Contingência           0.00   \n",
      "21  Reserva de Contingência        2000.00   \n",
      "22  Reserva de Contingência           0.00   \n",
      "23  Reserva de Contingência       18178.00   \n",
      "24  Reserva de Contingência       28073.08   \n",
      "25  Reserva de Contingência         385.38   \n",
      "26  Reserva de Contingência        5900.00   \n",
      "27  Reserva de Contingência           0.00   \n",
      "28  Reserva de Contingência           0.00   \n",
      "29  Reserva de Contingência           0.00   \n",
      "30  Reserva de Contingência        2400.00   \n",
      "31  Reserva de Contingência           0.00   \n",
      "32  Reserva de Contingência           0.00   \n",
      "33  Reserva de Contingência           0.00   \n",
      "34  Reserva de Contingência           0.00   \n",
      "35  Reserva de Contingência           0.00   \n",
      "36  Reserva de Contingência       38971.19   \n",
      "37  Reserva de Contingência       11000.00   \n",
      "38  Reserva de Contingência        1000.00   \n",
      "39  Reserva de Contingência      334126.70   \n",
      "40  Reserva de Contingência       19250.00   \n",
      "41  Reserva de Contingência       58918.28   \n",
      "\n",
      "                                NOME_PROGRAMA_GOVERNO  \n",
      "0                                  BRASIL SEM MISERIA  \n",
      "1                               VIOLENCIA NO TRANSITO  \n",
      "2                            TERRITORIOS DA CIDADANIA  \n",
      "3                                  BRASIL SEM MISERIA  \n",
      "4                                  BRASIL SEM MISERIA  \n",
      "5                                  BRASIL SEM MISERIA  \n",
      "6                             REGULARIZACAO FUNDIARIA  \n",
      "7                             REGULARIZACAO FUNDIARIA  \n",
      "8                                SEGURO RURAL PRIVADO  \n",
      "9                                    VIVER SEM LIMITE  \n",
      "10                             CIENCIA SEM FRONTEIRAS  \n",
      "11                               GESTAO AEROPORTUARIA  \n",
      "12                                 DESASTRES NATURAIS  \n",
      "13                                SATELITE (TELEBRAS)  \n",
      "14                                     MELHOR EM CASA  \n",
      "15                                       REDE CEGONHA  \n",
      "16                                       REDE CEGONHA  \n",
      "17                                 CONTROLE DO CANCER  \n",
      "18                                               ENEM  \n",
      "19                                               ENEM  \n",
      "20                                       PROVA BRASIL  \n",
      "21                                           PRONATEC  \n",
      "22                                           PRONATEC  \n",
      "23                                           PRONATEC  \n",
      "24                                           PRONATEC  \n",
      "25                                           PRONATEC  \n",
      "26                                           PRONATEC  \n",
      "27                                   CADEIAS PUBLICAS  \n",
      "28                           CRACK, E POSSIVEL VENCER  \n",
      "29                                       MAIS MEDICOS  \n",
      "30                                       MAIS MEDICOS  \n",
      "31                             CRIMINALIDADE VIOLENTA  \n",
      "32                                         OLIMPIADAS  \n",
      "33                                             SINESP  \n",
      "34                                            ENAFRON  \n",
      "35  UPA (INVESTIMENTO, CUSTEIO E COMPLEXO DE REGUL...  \n",
      "36                                 CONTROLE DO CANCER  \n",
      "37                                       MAIS MEDICOS  \n",
      "38                                       MAIS MEDICOS  \n",
      "39                                               ENEM  \n",
      "40                                 BRASIL SEM MISERIA  \n",
      "41                                 BRASIL SEM MISERIA  \n"
     ]
    },
    {
     "data": {
      "text/plain": [
       "284"
      ]
     },
     "execution_count": 10,
     "metadata": {},
     "output_type": "execute_result"
    }
   ],
   "source": [
    "consulta_questao13 = 'SELECT DISTINCT MODALIDADE_DESPESA, VALOR_DESPESA, NOME_PROGRAMA_GOVERNO FROM (SELECT * FROM PROGRAMA_GOVERNO INNER JOIN DESPESA_PUBLICA ON PROGRAMA_GOVERNO.COD_PROGRAMA_GOVERNO = DESPESA_PUBLICA.COD_PROGRAMA_GOVERNO WHERE MODALIDADE_DESPESA = \"Reserva de Contingência\")'\n",
    "df = pd.read_sql_query(consulta_questao13, conn)\n",
    "print(df)\n",
    "csvwriter.writerow([13, df.shape[0], df.shape[1], consulta_questao13])"
   ]
  },
  {
   "cell_type": "markdown",
   "metadata": {},
   "source": [
    "#### 14. π VALOR_DESPESA, NOME_ORGAO(DESPESA_PUBLICA ⋈ σ NOME_ORGAO='Ministério da Fazenda'(ORGAO))"
   ]
  },
  {
   "cell_type": "code",
   "execution_count": 11,
   "metadata": {},
   "outputs": [
    {
     "name": "stdout",
     "output_type": "stream",
     "text": [
      "   VALOR_DESPESA             NOME_ORGAO\n",
      "0              0  Ministério da Fazenda\n"
     ]
    },
    {
     "data": {
      "text/plain": [
       "198"
      ]
     },
     "execution_count": 11,
     "metadata": {},
     "output_type": "execute_result"
    }
   ],
   "source": [
    "consulta_questao14 = 'SELECT DISTINCT VALOR_DESPESA, NOME_ORGAO FROM (SELECT * FROM DESPESA_PUBLICA INNER JOIN ORGAO ON DESPESA_PUBLICA.COD_ORGAO = ORGAO.COD_ORGAO WHERE NOME_ORGAO = \"Ministério da Fazenda\")'\n",
    "df = pd.read_sql_query(consulta_questao14, conn)\n",
    "print(df)\n",
    "csvwriter.writerow([14, df.shape[0], df.shape[1], consulta_questao14])"
   ]
  },
  {
   "cell_type": "markdown",
   "metadata": {},
   "source": [
    "#### 15. π NOME_PROGRAMA_GOVERNO, VALOR_DESPESA(DESPESA_PUBLICA ⋈ σ NOME_ORGAO='Ministério da Saúde'(ORGAO) ⋈ PROGRAMA_GOVERNO)"
   ]
  },
  {
   "cell_type": "code",
   "execution_count": 12,
   "metadata": {},
   "outputs": [
    {
     "name": "stdout",
     "output_type": "stream",
     "text": [
      "                                NOME_PROGRAMA_GOVERNO  VALOR_DESPESA\n",
      "0                                    VIVER SEM LIMITE           0.00\n",
      "1                                      SOS EMERGENCIA           0.00\n",
      "2                                      MELHOR EM CASA           0.00\n",
      "3                                                 UBS           0.00\n",
      "4   UPA (INVESTIMENTO, CUSTEIO E COMPLEXO DE REGUL...           0.00\n",
      "5                                        REDE CEGONHA           0.00\n",
      "6                                  CONTROLE DO CANCER           0.00\n",
      "7                                  CONTROLE DO CANCER       38971.19\n",
      "8                            CRACK, E POSSIVEL VENCER           0.00\n",
      "9                                  BRASIL SEM MISERIA           0.00\n",
      "10  PROGRAMA NACIONAL DE MELHORIA DE ACESSO E QUAL...           0.00\n",
      "11                                       MAIS MEDICOS           0.00\n",
      "12                                       MAIS MEDICOS       11000.00\n",
      "13                                       MAIS MEDICOS        1000.00\n"
     ]
    },
    {
     "data": {
      "text/plain": [
       "320"
      ]
     },
     "execution_count": 12,
     "metadata": {},
     "output_type": "execute_result"
    }
   ],
   "source": [
    "consulta_questao15 = 'SELECT DISTINCT NOME_PROGRAMA_GOVERNO, VALOR_DESPESA FROM PROGRAMA_GOVERNO INNER JOIN (SELECT * FROM DESPESA_PUBLICA INNER JOIN ORGAO ON DESPESA_PUBLICA.COD_ORGAO = ORGAO.COD_ORGAO WHERE NOME_ORGAO = \"Ministério da Saúde\" ) AS DESPESA ON PROGRAMA_GOVERNO.COD_PROGRAMA_GOVERNO = DESPESA.COD_PROGRAMA_GOVERNO'\n",
    "df = pd.read_sql_query(consulta_questao15, conn)\n",
    "print(df)\n",
    "csvwriter.writerow([15, df.shape[0], df.shape[1], consulta_questao15])"
   ]
  },
  {
   "cell_type": "code",
   "execution_count": 13,
   "metadata": {},
   "outputs": [],
   "source": [
    "csvfile.close()"
   ]
  }
 ],
 "metadata": {
  "kernelspec": {
   "display_name": "Python 3",
   "language": "python",
   "name": "python3"
  },
  "language_info": {
   "codemirror_mode": {
    "name": "ipython",
    "version": 3
   },
   "file_extension": ".py",
   "mimetype": "text/x-python",
   "name": "python",
   "nbconvert_exporter": "python",
   "pygments_lexer": "ipython3",
   "version": "3.6.7"
  }
 },
 "nbformat": 4,
 "nbformat_minor": 2
}
