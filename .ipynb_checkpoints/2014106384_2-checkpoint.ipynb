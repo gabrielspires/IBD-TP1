{
 "cells": [
  {
   "cell_type": "code",
   "execution_count": null,
   "metadata": {},
   "outputs": [],
   "source": [
    "import io\n",
    "import sqlite3\n",
    "import pandas as pd\n",
    "\n",
    "import matplotlib as plt\n",
    "import csv"
   ]
  },
  {
   "cell_type": "code",
   "execution_count": null,
   "metadata": {},
   "outputs": [],
   "source": [
    "csvfile = open('2014106384.csv', 'w')\n",
    "csvwriter = csv.writer(csvfile, delimiter='|',  quoting=csv.QUOTE_MINIMAL)\n",
    "\n",
    "conn = sqlite3.connect('tp1.db')\n",
    "cursor = conn.cursor()\n",
    "\n",
    "f = io.open('despesas_publicas_tp1.sql', 'r', encoding='ISO-8859-1')\n",
    "sql = f.read()\n",
    "cursor.executescript(sql)\n",
    "\n",
    "# Questões: 1 2   4 5   7 9"
   ]
  },
  {
   "cell_type": "markdown",
   "metadata": {},
   "source": [
    "#### 1. Liste todos os códigos e nomes de subfunções da função que possui o maior número de subfunções."
   ]
  },
  {
   "cell_type": "code",
   "execution_count": null,
   "metadata": {
    "scrolled": false
   },
   "outputs": [],
   "source": [
    "consulta_questao1 = \"SELECT A.COD_SUBFUNCAO, A.NOME_SUBFUNCAO FROM SUBFUNCAO AS A INNER JOIN (SELECT COD_SUBFUNCAO FROM DETALHAMENTO_FUNCAO WHERE COD_FUNCAO = (SELECT COD_FUNCAO FROM (SELECT COD_FUNCAO, MAX(Y.SUB) FROM ( SELECT COD_FUNCAO, COUNT(COD_SUBFUNCAO) as SUB FROM DETALHAMENTO_FUNCAO GROUP BY COD_FUNCAO ) Y ))) AS X ON A.COD_SUBFUNCAO = X.COD_SUBFUNCAO\"\n",
    "df = pd.read_sql_query(consulta_questao1, conn)\n",
    "print(df)\n",
    "csvwriter.writerow([1, df.shape[0], df.shape[1], consulta_questao1])"
   ]
  },
  {
   "cell_type": "markdown",
   "metadata": {},
   "source": [
    "#### 2. Liste o valor total de despesas públicas por função (nome) e subfunção(nome), apenas nos casos em que esse valor total excedeu 200 mil reais."
   ]
  },
  {
   "cell_type": "code",
   "execution_count": null,
   "metadata": {},
   "outputs": [],
   "source": [
    "consulta_questao2 = \"SELECT FUNC.NOME_FUNCAO, SUBFUNC.NOME_SUBFUNCAO, CODS.VALOR_DESPESA FROM FUNCAO AS FUNC, SUBFUNCAO AS SUBFUNC INNER JOIN (SELECT * FROM DETALHAMENTO_FUNCAO AS DETALHAMENTO INNER JOIN (SELECT * FROM DESPESA_PUBLICA WHERE VALOR_DESPESA > 200000) AS DESPESA ON DETALHAMENTO.COD_DETALHAMENTO = DESPESA.COD_DETALHAMENTO) AS CODS ON FUNC.COD_FUNCAO = CODS.COD_FUNCAO AND SUBFUNC.COD_SUBFUNCAO = CODS.COD_SUBFUNCAO\"\n",
    "df = pd.read_sql_query(consulta_questao2, conn)\n",
    "print(df)\n",
    "csvwriter.writerow([2, df.shape[0], df.shape[1], consulta_questao2])"
   ]
  },
  {
   "cell_type": "markdown",
   "metadata": {},
   "source": [
    "#### 4. Liste o mês e ano, modalidade, programa de governo e valor de todas as despesas do órgão Ministério da Fazenda no primeiro semestre de 2018."
   ]
  },
  {
   "cell_type": "code",
   "execution_count": null,
   "metadata": {},
   "outputs": [],
   "source": [
    "consulta_questao4 = 'SELECT DESPESA.MES_DESPESA, DESPESA.ANO_DESPESA, DESPESA.MODALIDADE_DESPESA, PROGRAMA.NOME_PROGRAMA_GOVERNO, DESPESA.VALOR_DESPESA TOTAL_DESPESA FROM PROGRAMA_GOVERNO AS PROGRAMA INNER JOIN (SELECT * FROM DESPESA_PUBLICA AS DESPESA INNER JOIN (SELECT * FROM ORGAO WHERE NOME_ORGAO = \"Ministério da Fazenda\" ) AS ORGAO ON DESPESA.COD_ORGAO = ORGAO.COD_ORGAO) AS DESPESA WHERE DESPESA.MES_DESPESA < 7'\n",
    "df = pd.read_sql_query(consulta_questao4, conn)\n",
    "print(df)\n",
    "csvwriter.writerow([4, df.shape[0], df.shape[1], consulta_questao4])"
   ]
  },
  {
   "cell_type": "markdown",
   "metadata": {},
   "source": [
    "#### 5. Liste o código e nome dos programas de governo que possuíram os 3 maiores valores de despesas totais na função de educação durante o ano de 2018."
   ]
  },
  {
   "cell_type": "code",
   "execution_count": null,
   "metadata": {},
   "outputs": [],
   "source": [
    "consulta_questao5 = 'SELECT DESPESA.COD_PROGRAMA_GOVERNO, DESPESA.NOME_PROGRAMA_GOVERNO FROM  (SELECT * FROM PROGRAMA_GOVERNO AS PROGRAMA INNER JOIN (SELECT * FROM DESPESA_PUBLICA AS DESPESA INNER JOIN (SELECT * FROM DETALHAMENTO_FUNCAO WHERE COD_FUNCAO = (SELECT COD_FUNCAO FROM FUNCAO WHERE NOME_FUNCAO = \"Educação\" )) AS EDU ON DESPESA.COD_DETALHAMENTO = EDU.COD_DETALHAMENTO) AS DESPESA ON PROGRAMA.COD_PROGRAMA_GOVERNO = DESPESA.COD_PROGRAMA_GOVERNO) AS DESPESA GROUP BY DESPESA.COD_PROGRAMA_GOVERNO ORDER BY SUM(VALOR_DESPESA) DESC LIMIT 3'\n",
    "df = pd.read_sql_query(consulta_questao5, conn)\n",
    "print(df)\n",
    "csvwriter.writerow([5, df.shape[0], df.shape[1], consulta_questao5])"
   ]
  },
  {
   "cell_type": "markdown",
   "metadata": {},
   "source": [
    "#### 7. Liste os órgãos governamentais e a quantidade de programas de governo distintos envolvidos nas despesas públicas desses órgãos. Nesta consulta, desconsidere valores de despesa negativos ou iguais a zero no perı́odo."
   ]
  },
  {
   "cell_type": "code",
   "execution_count": null,
   "metadata": {},
   "outputs": [],
   "source": [
    "consulta_questao7 = 'SELECT NOME_ORGAO, DESPESAS.NUM_PROGRAMAS FROM ORGAO INNER JOIN (SELECT DISTINCT COUNT(COD_PROGRAMA_GOVERNO) NUM_PROGRAMAS, * FROM DESPESA_PUBLICA WHERE VALOR_DESPESA > 0 GROUP BY COD_ORGAO) AS DESPESAS ON ORGAO.COD_ORGAO = DESPESAS.COD_ORGAO'\n",
    "df = pd.read_sql_query(consulta_questao7, conn)\n",
    "print(df)\n",
    "csvwriter.writerow([7, df.shape[0], df.shape[1], consulta_questao7])"
   ]
  },
  {
   "cell_type": "markdown",
   "metadata": {},
   "source": [
    "#### 9. Liste todas as despesas públicas (código da despesa, mês e ano da despesa, modalidade, valor) em que o órgão responsável é aquele que possui o maior número de órgãos subordinados."
   ]
  },
  {
   "cell_type": "code",
   "execution_count": null,
   "metadata": {},
   "outputs": [],
   "source": [
    "consulta_questao9 = 'SELECT COD_DESPESA, MES_DESPESA, ANO_DESPESA, MODALIDADE_DESPESA, VALOR_DESPESA FROM DESPESA_PUBLICA INNER JOIN (SELECT MAX(QTD_ORGAOS_SUBORDINADOS) QTD, * FROM ORGAO) AS MAIOR_ORGAO ON DESPESA_PUBLICA.COD_ORGAO = MAIOR_ORGAO.COD_ORGAO'\n",
    "df = pd.read_sql_query(consulta_questao9, conn)\n",
    "print(df)\n",
    "csvwriter.writerow([9, df.shape[0], df.shape[1], consulta_questao9])"
   ]
  },
  {
   "cell_type": "markdown",
   "metadata": {},
   "source": [
    "#### 12. π NOME_FUNCAO, NOME_SUBFUNCAO(FUNCAO ⋈ DETALHAMENTO_FUNCAO ⋈ SUBFUNCAO)"
   ]
  },
  {
   "cell_type": "code",
   "execution_count": null,
   "metadata": {},
   "outputs": [],
   "source": [
    "consulta_questao12 = 'SELECT DISTINCT NOME_FUNCAO, NOME_SUBFUNCAO FROM (SELECT * FROM SUBFUNCAO INNER JOIN (SELECT * FROM DETALHAMENTO_FUNCAO INNER JOIN FUNCAO ON DETALHAMENTO_FUNCAO.COD_FUNCAO = FUNCAO.COD_FUNCAO) AS DET ON DET.COD_SUBFUNCAO = SUBFUNCAO.COD_SUBFUNCAO) AS SUB'\n",
    "df = pd.read_sql_query(consulta_questao12, conn)\n",
    "print(df)\n",
    "csvwriter.writerow([12, df.shape[0], df.shape[1], consulta_questao12])"
   ]
  },
  {
   "cell_type": "markdown",
   "metadata": {},
   "source": [
    "#### 13. π MODALIDADE_DESPESA, VALOR_DESPESA, NOME_PROGRAMA_GOVERNO(PROGRAMA_GOVERNO ⋈ σ MODALIDADE_DESPESA='Reserva de Contingência'(DESPESA_PUBLICA))"
   ]
  },
  {
   "cell_type": "code",
   "execution_count": null,
   "metadata": {},
   "outputs": [],
   "source": [
    "consulta_questao13 = 'SELECT DISTINCT MODALIDADE_DESPESA, VALOR_DESPESA, NOME_PROGRAMA_GOVERNO FROM (SELECT * FROM PROGRAMA_GOVERNO INNER JOIN DESPESA_PUBLICA ON PROGRAMA_GOVERNO.COD_PROGRAMA_GOVERNO = DESPESA_PUBLICA.COD_PROGRAMA_GOVERNO WHERE MODALIDADE_DESPESA = \"Reserva de Contingência\")'\n",
    "df = pd.read_sql_query(consulta_questao13, conn)\n",
    "print(df)\n",
    "csvwriter.writerow([13, df.shape[0], df.shape[1], consulta_questao13])"
   ]
  },
  {
   "cell_type": "markdown",
   "metadata": {},
   "source": [
    "#### 14. π VALOR_DESPESA, NOME_ORGAO(DESPESA_PUBLICA ⋈ σ NOME_ORGAO='Ministério da Fazenda'(ORGAO))"
   ]
  },
  {
   "cell_type": "code",
   "execution_count": null,
   "metadata": {},
   "outputs": [],
   "source": [
    "consulta_questao14 = 'SELECT DISTINCT VALOR_DESPESA, NOME_ORGAO FROM (SELECT * FROM DESPESA_PUBLICA INNER JOIN ORGAO ON DESPESA_PUBLICA.COD_ORGAO = ORGAO.COD_ORGAO WHERE NOME_ORGAO = \"Ministério da Fazenda\")'\n",
    "df = pd.read_sql_query(consulta_questao14, conn)\n",
    "print(df)\n",
    "csvwriter.writerow([14, df.shape[0], df.shape[1], consulta_questao14])"
   ]
  },
  {
   "cell_type": "markdown",
   "metadata": {},
   "source": [
    "#### 15. π NOME_PROGRAMA_GOVERNO, VALOR_DESPESA(DESPESA_PUBLICA ⋈ σ NOME_ORGAO='Ministério da Saúde'(ORGAO) ⋈ PROGRAMA_GOVERNO)"
   ]
  },
  {
   "cell_type": "code",
   "execution_count": null,
   "metadata": {},
   "outputs": [],
   "source": [
    "consulta_questao15 = 'SELECT DISTINCT NOME_PROGRAMA_GOVERNO, VALOR_DESPESA FROM PROGRAMA_GOVERNO INNER JOIN (SELECT * FROM DESPESA_PUBLICA INNER JOIN ORGAO ON DESPESA_PUBLICA.COD_ORGAO = ORGAO.COD_ORGAO WHERE NOME_ORGAO = \"Ministério da Saúde\" ) AS DESPESA ON PROGRAMA_GOVERNO.COD_PROGRAMA_GOVERNO = DESPESA.COD_PROGRAMA_GOVERNO'\n",
    "df = pd.read_sql_query(consulta_questao15, conn)\n",
    "print(df)\n",
    "csvwriter.writerow([15, df.shape[0], df.shape[1], consulta_questao15])"
   ]
  },
  {
   "cell_type": "code",
   "execution_count": null,
   "metadata": {},
   "outputs": [],
   "source": [
    "csvfile.close()"
   ]
  }
 ],
 "metadata": {
  "kernelspec": {
   "display_name": "Python 3",
   "language": "python",
   "name": "python3"
  },
  "language_info": {
   "codemirror_mode": {
    "name": "ipython",
    "version": 3
   },
   "file_extension": ".py",
   "mimetype": "text/x-python",
   "name": "python",
   "nbconvert_exporter": "python",
   "pygments_lexer": "ipython3",
   "version": "3.6.7"
  }
 },
 "nbformat": 4,
 "nbformat_minor": 2
}
