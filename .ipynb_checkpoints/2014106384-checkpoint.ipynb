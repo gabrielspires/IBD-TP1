{
 "cells": [
  {
   "cell_type": "code",
   "execution_count": 1,
   "metadata": {},
   "outputs": [],
   "source": [
    "import io\n",
    "import sqlite3\n",
    "import pandas as pd\n",
    "\n",
    "import matplotlib as plt"
   ]
  },
  {
   "cell_type": "code",
   "execution_count": 3,
   "metadata": {},
   "outputs": [],
   "source": [
    "conn = sqlite3.connect('tp1.db')\n",
    "cursor = conn.cursor()\n",
    "\n",
    "f = io.open('despesas_publicas_tp1.sql', 'r', encoding='ISO-8859-1')\n",
    "sql = f.read()\n",
    "cursor.executescript(sql)\n",
    "\n",
    "# Questões: 1 2   4 5   7 9 / \n",
    "#             2 3   5 6 7 9"
   ]
  },
  {
   "cell_type": "code",
   "execution_count": null,
   "metadata": {},
   "outputs": [],
   "source": [
    "df = pd.read_sql_query('SELECT * FROM DESPESA_PUBLICA', conn)\n",
    "df"
   ]
  },
  {
   "cell_type": "markdown",
   "metadata": {},
   "source": [
    "#### 1. Liste todos os códigos e nomes de subfunções da função que possui o maior número de subfunções."
   ]
  },
  {
   "cell_type": "code",
   "execution_count": null,
   "metadata": {
    "scrolled": false
   },
   "outputs": [],
   "source": [
    "df = pd.read_sql_query('SELECT A.COD_SUBFUNCAO, A.NOME_SUBFUNCAO FROM SUBFUNCAO AS A '+\n",
    "                       'INNER JOIN (SELECT COD_SUBFUNCAO FROM DETALHAMENTO_FUNCAO WHERE COD_FUNCAO = ('+\n",
    "                           'SELECT COD_FUNCAO FROM ('+\n",
    "                               'SELECT COD_FUNCAO, MAX(Y.SUB) FROM ( '+\n",
    "                                   'SELECT COD_FUNCAO, COUNT(COD_SUBFUNCAO) as SUB '+\n",
    "                                   'FROM DETALHAMENTO_FUNCAO '+\n",
    "                                   'GROUP BY COD_FUNCAO' +\n",
    "                                ') Y '+\n",
    "                          ')'+\n",
    "                       ')) AS X ON A.COD_SUBFUNCAO = X.COD_SUBFUNCAO', conn)\n",
    "df"
   ]
  },
  {
   "cell_type": "markdown",
   "metadata": {},
   "source": [
    "#### 2. Liste o valor total de despesas públicas por função (nome) e subfunção(nome), apenas nos casos em que esse valor total excedeu 200 mil reais."
   ]
  },
  {
   "cell_type": "code",
   "execution_count": null,
   "metadata": {},
   "outputs": [],
   "source": [
    "df = pd.read_sql_query('SELECT FUNC.NOME_FUNCAO, SUBFUNC.NOME_SUBFUNCAO, CODS.VALOR_DESPESA FROM FUNCAO AS FUNC, SUBFUNCAO AS SUBFUNC INNER JOIN'+\n",
    "                       '(SELECT * FROM DETALHAMENTO_FUNCAO AS DETALHAMENTO INNER JOIN '+\n",
    "                       '(SELECT * FROM DESPESA_PUBLICA WHERE VALOR_DESPESA > 200000) AS DESPESA '+\n",
    "                       'ON DETALHAMENTO.COD_DETALHAMENTO = DESPESA.COD_DETALHAMENTO) AS CODS '+\n",
    "                       'ON FUNC.COD_FUNCAO = CODS.COD_FUNCAO AND SUBFUNC.COD_SUBFUNCAO = CODS.COD_SUBFUNCAO', conn)\n",
    "df"
   ]
  },
  {
   "cell_type": "markdown",
   "metadata": {},
   "source": [
    "#### ❌ 3.Liste todos os nomes dos órgaos e o valor das despesas totais no ano de 2018 para os mesmos, ordenando de forma decrescente pelo valor."
   ]
  },
  {
   "cell_type": "code",
   "execution_count": null,
   "metadata": {},
   "outputs": [],
   "source": [
    "df = pd.read_sql_query('SELECT ORGAO.NOME_ORGAO, SUM(DESPESA.VALOR_DESPESA) TOTAL_DESPESA FROM ORGAO INNER JOIN '+\n",
    "                       '(SELECT * FROM DESPESA_PUBLICA WHERE ANO_DESPESA = 2018) AS DESPESA '+\n",
    "                       'ON ORGAO.COD_ORGAO = DESPESA.COD_ORGAO GROUP BY NOME_ORGAO ORDER BY TOTAL_DESPESA DESC', conn)\n",
    "df"
   ]
  },
  {
   "cell_type": "markdown",
   "metadata": {},
   "source": [
    "#### 4. Liste o mês e ano, modalidade, programa de governo e valor de todas as despesas do órgão Ministério da Fazenda no primeiro semestre de 2018."
   ]
  },
  {
   "cell_type": "code",
   "execution_count": null,
   "metadata": {},
   "outputs": [],
   "source": []
  }
 ],
 "metadata": {
  "kernelspec": {
   "display_name": "Python 3",
   "language": "python",
   "name": "python3"
  },
  "language_info": {
   "codemirror_mode": {
    "name": "ipython",
    "version": 3
   },
   "file_extension": ".py",
   "mimetype": "text/x-python",
   "name": "python",
   "nbconvert_exporter": "python",
   "pygments_lexer": "ipython3",
   "version": "3.6.7"
  }
 },
 "nbformat": 4,
 "nbformat_minor": 2
}
